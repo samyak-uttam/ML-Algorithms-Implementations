{
 "cells": [
  {
   "cell_type": "markdown",
   "metadata": {},
   "source": [
    "# Gradient Descent\n",
    "\n",
    "It is an optmization algorithm, that is used to find the values of parameter/s that minimizes the value of a function.\n",
    "\n",
    "Let our function be \n",
    "$$ y = (x - 3)^2 $$\n",
    "\n",
    "Thus the derivative of the function will be \n",
    "$$ \\frac{dy}{dx} = \\frac{d}{dx}(x - 3)^2 = 2*(x - 3) $$\n",
    "\n",
    "<img src = 'images/plot_GD.png'>\n",
    "$$ y = (x - 3)^2 $$"
   ]
  },
  {
   "cell_type": "markdown",
   "metadata": {},
   "source": [
    "## Steps\n",
    "1. Initialize the paramaters and x with 0 or same random value."
   ]
  },
  {
   "cell_type": "code",
   "execution_count": 1,
   "metadata": {},
   "outputs": [],
   "source": [
    "x = 0\n",
    "y = lambda x: (x - 3)**2\n",
    "alpha = 0.01 # Learning rate\n",
    "precision = 0.0001 # this tells us when to stop the algorithm\n",
    "max_iters = 1000 # maximum number of iterations\n",
    "iters = 0 # iteration counter\n",
    "dy = lambda x: 2 * (x - 3) # Gradient/Derivative of our function\n",
    "cost = 1"
   ]
  },
  {
   "cell_type": "markdown",
   "metadata": {},
   "source": [
    "2. Run the iterations until the cost become small enough or the increase in value of x is very small. In each iteration we will\n",
    "    - find the value of our function (cost)\n",
    "    - find the derivative value of the function\n",
    "    - update our paramerter x according to the equation x = x - learning rate * derivative"
   ]
  },
  {
   "cell_type": "code",
   "execution_count": 2,
   "metadata": {
    "scrolled": true
   },
   "outputs": [
    {
     "name": "stdout",
     "output_type": "stream",
     "text": [
      "Iteration20 \n",
      "Current cost, x:  4.177 0.997\n",
      "Iteration40 \n",
      "Current cost, x:  1.862 1.663\n",
      "Iteration60 \n",
      "Current cost, x:  0.83 2.107\n",
      "Iteration80 \n",
      "Current cost, x:  0.37 2.404\n",
      "Iteration100 \n",
      "Current cost, x:  0.165 2.602\n",
      "Iteration120 \n",
      "Current cost, x:  0.073 2.734\n",
      "Iteration140 \n",
      "Current cost, x:  0.033 2.823\n",
      "Iteration160 \n",
      "Current cost, x:  0.015 2.882\n",
      "Iteration180 \n",
      "Current cost, x:  0.007 2.921\n",
      "Iteration200 \n",
      "Current cost, x:  0.003 2.947\n",
      "Iteration220 \n",
      "Current cost, x:  0.001 2.965\n",
      "Iteration240 \n",
      "Current cost, x:  0.001 2.976\n",
      "Iteration260 \n",
      "Current cost, x:  0.0 2.984\n",
      "Iteration280 \n",
      "Current cost, x:  0.0 2.99\n"
     ]
    }
   ],
   "source": [
    "while cost > precision and iters < max_iters:\n",
    "    cost = y(x)\n",
    "    delta = dy(x)\n",
    "    x = x - alpha * delta\n",
    "    iters = iters + 1\n",
    "    if iters % 20 == 0:\n",
    "        print('Iteration{} \\nCurrent cost, x: '.format(iters), round(cost, 3), round(x, 3))"
   ]
  },
  {
   "cell_type": "code",
   "execution_count": 3,
   "metadata": {},
   "outputs": [
    {
     "name": "stdout",
     "output_type": "stream",
     "text": [
      "The local minimum occurs at 2.99\n"
     ]
    }
   ],
   "source": [
    "print(\"The local minimum occurs at\", round(x, 3))"
   ]
  },
  {
   "cell_type": "code",
   "execution_count": null,
   "metadata": {},
   "outputs": [],
   "source": []
  }
 ],
 "metadata": {
  "kernelspec": {
   "display_name": "Python 3",
   "language": "python",
   "name": "python3"
  },
  "language_info": {
   "codemirror_mode": {
    "name": "ipython",
    "version": 3
   },
   "file_extension": ".py",
   "mimetype": "text/x-python",
   "name": "python",
   "nbconvert_exporter": "python",
   "pygments_lexer": "ipython3",
   "version": "3.8.5"
  }
 },
 "nbformat": 4,
 "nbformat_minor": 4
}
