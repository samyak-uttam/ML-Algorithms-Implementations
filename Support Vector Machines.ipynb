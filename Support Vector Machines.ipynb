{
 "cells": [
  {
   "cell_type": "markdown",
   "metadata": {},
   "source": [
    "# Support Vector Machines (SVM)\n",
    "\n",
    "Support Vector Machine (SVM) is a supervised machine learning algorithm mainly used for classification but can also be used for regression. In SVM just like logistic regression, we try to find the **optimal hyperplane** which separated the positive and negative examples. But unlike it we select two **margin hyperplanes** parallel to the main hyperplane on both sides and passing through one or more of the nearest positive or negative points such that the distance between them is maximized. They separated by a distance called **marginal distance**. The points which pass through the margin hyperplanes are called **support vectors**.\n",
    "\n",
    "<img src = './images/SVM.png' style = 'width:500px;height:500px;'>\n",
    "\n",
    "**Linear SVM**<br/>\n",
    "In Linear SVM the data points are Linearly seprable just like the in the picture shown above.\n",
    "\n",
    "**Hard Margin** - If we select the hyperplanes such that no data points should fall inside the margin then it is Hard Margin. Our model will be more prone to overfitting in this case.\n",
    "\n",
    "**Soft Margin** - If we allow a few points which are not linearly separable to fall inside the margin then it is Soft Margin. This is more of a real life scenario and a better fit for new upcoming test data.\n",
    "\n",
    "<img src = './images/hard_vs_soft_margin.png'>\n",
    "\n",
    "**Non-Linear Classification**<br/>\n",
    "For non-linearlly separable data also we can SVM. SVM uses a technique called **kernel** for this, which transforms the data from a lower dimension to a higher dimension. There are various types of kernels like **Linear, Polynomial, RBF (Radial Basis Function), etc**.\n",
    "<img src = './images/SVM_kernel.jpg' style = 'width:800px;height:400px;'>\n",
    "\n",
    "In this notebook we will perform Linear classification with SVM."
   ]
  },
  {
   "cell_type": "code",
   "execution_count": 1,
   "metadata": {},
   "outputs": [],
   "source": [
    "# import the required libraries\n",
    "import random\n",
    "import numpy as np\n",
    "import matplotlib.pyplot as plt\n",
    "from sklearn.datasets import make_blobs"
   ]
  },
  {
   "cell_type": "markdown",
   "metadata": {},
   "source": [
    "## Initialize the paramaters\n",
    "Initialize the weights and biases to 0."
   ]
  },
  {
   "cell_type": "code",
   "execution_count": 2,
   "metadata": {},
   "outputs": [],
   "source": [
    "def initializeParams(dim):\n",
    "    w = np.zeros((1, dim))\n",
    "    b = 0\n",
    "    return w, b"
   ]
  },
  {
   "cell_type": "markdown",
   "metadata": {},
   "source": [
    "## Linear Model\n",
    "\n",
    "For our main and marginal hyperplanes, we have\n",
    "$$w.x - b = 0$$\n",
    "$$w.x_i - b >= 1\\text{, if y_i = 1}$$\n",
    "$$w.x_i - b <= -1\\text{, if y_i = -1}$$\n",
    "Therefore, \n",
    "$$y_i(w.x_i - b) >= 1$$"
   ]
  },
  {
   "cell_type": "code",
   "execution_count": 3,
   "metadata": {},
   "outputs": [],
   "source": [
    " def forwardProp(w, b, X_i):\n",
    "    Z = np.dot(w, X_i) - b\n",
    "    return Z"
   ]
  },
  {
   "cell_type": "markdown",
   "metadata": {},
   "source": [
    "## Cost function\n",
    "\n",
    "We will use hinge loss function \n",
    "$$ J = max(0, 1 - y_i(w.x_i - b)) $$\n",
    "\n",
    "Add regularization term\n",
    "$$ J = \\lambda ||w||^2 + \\frac{1}{m}\\sum_{i = 1}^{m} max(0, 1 - y_i(w.x_i - b)) $$"
   ]
  },
  {
   "cell_type": "code",
   "execution_count": 4,
   "metadata": {},
   "outputs": [],
   "source": [
    "def cost(Y, Z, w, b, lambda_param):\n",
    "    m = Y.shape[0]\n",
    "    return lambda_param * np.linalg.norm(w) + 1 / m * np.sum(np.maximum(0, 1 - np.dot(Y, Z)))"
   ]
  },
  {
   "cell_type": "markdown",
   "metadata": {},
   "source": [
    "## Backward propagation\n",
    "If **y_i.f(x) >= 1**\n",
    "$$ \\frac{dZ}{dw} = 2 \\lambda w$$\n",
    "$$ \\frac{dJ}{db} = 0 $$\n",
    "else\n",
    "$$ \\frac{dZ}{dw} = 2 \\lambda w - y_i.x_i$$\n",
    "$$ \\frac{dJ}{db} = y_i $$"
   ]
  },
  {
   "cell_type": "code",
   "execution_count": 5,
   "metadata": {},
   "outputs": [],
   "source": [
    "def backprop(X_i, Y_i, lambda_param, w, condition):\n",
    "    if condition == True:\n",
    "        dw = 2 * lambda_param * w \n",
    "        db = 0\n",
    "    else:\n",
    "        dw = 2 * lambda_param * w - np.dot(X_i, Y_i.item())\n",
    "        db = Y_i\n",
    "    return (dw, db)"
   ]
  },
  {
   "cell_type": "markdown",
   "metadata": {},
   "source": [
    "## Update Parameters\n",
    "Update the parameters using Gradient Descent."
   ]
  },
  {
   "cell_type": "code",
   "execution_count": 6,
   "metadata": {},
   "outputs": [],
   "source": [
    "def updateParams(w, b, dw, db, alpha):\n",
    "    w = w - alpha * dw\n",
    "    b = b - alpha * db\n",
    "    return (w, b)"
   ]
  },
  {
   "cell_type": "markdown",
   "metadata": {},
   "source": [
    "Combine all the steps and functions to form a model."
   ]
  },
  {
   "cell_type": "code",
   "execution_count": 7,
   "metadata": {},
   "outputs": [],
   "source": [
    "def model(X, Y, max_iters = 1000, alpha = 0.001, lambda_param = 0.01):\n",
    "    w, b = initializeParams(X.shape[1])\n",
    "    \n",
    "    for iters in range(max_iters):\n",
    "        for idx, X_i in enumerate(X):\n",
    "            Z = forwardProp(w, b, X_i)\n",
    "            \n",
    "            condition = (Y[idx] * Z) >= 1\n",
    "            \n",
    "            c = cost(Y, Z, w, b, lambda_param)\n",
    "            \n",
    "            (dw, db) = backprop(X_i, Y[idx], lambda_param, w, condition)\n",
    "            \n",
    "            (w, b) = updateParams(w, b, dw, db, alpha)\n",
    "        \n",
    "        if iters % 20 == 0:\n",
    "            print('Iteration {} \\nCurrent cost: '.format(iters), round(c, 3))\n",
    "\n",
    "    params = {'w': w, 'b': b}\n",
    "    \n",
    "    return params"
   ]
  },
  {
   "cell_type": "code",
   "execution_count": 8,
   "metadata": {},
   "outputs": [],
   "source": [
    "# functions to visualize our results\n",
    "def get_hyperplane_value(x, w, b, offset):\n",
    "    return (-w[0][0] * x + b + offset) / w[0][1]\n",
    "\n",
    "def visualize_svm(X, y, params):\n",
    "    w = params['w']\n",
    "    b = params['b']\n",
    "    \n",
    "    fig = plt.figure()\n",
    "    ax = fig.add_subplot(1,1,1)\n",
    "    plt.scatter(X[:,0], X[:,1], c = y)\n",
    "\n",
    "    x0_1 = np.amin(X[:,0])\n",
    "    x0_2 = np.amax(X[:,0])\n",
    "\n",
    "    x1_1 = get_hyperplane_value(x0_1, w, b, 0)\n",
    "    x1_2 = get_hyperplane_value(x0_2, w, b, 0)\n",
    "\n",
    "    x1_1_m = get_hyperplane_value(x0_1, w, b, -1)\n",
    "    x1_2_m = get_hyperplane_value(x0_2, w, b, -1)\n",
    "\n",
    "    x1_1_p = get_hyperplane_value(x0_1, w, b, 1)\n",
    "    x1_2_p = get_hyperplane_value(x0_2, w, b, 1)\n",
    "\n",
    "    ax.plot([x0_1, x0_2],[x1_1, x1_2], 'y--')\n",
    "    ax.plot([x0_1, x0_2],[x1_1_m, x1_2_m], 'k')\n",
    "    ax.plot([x0_1, x0_2],[x1_1_p, x1_2_p], 'k')\n",
    "\n",
    "    x1_min = np.amin(X[:,1])\n",
    "    x1_max = np.amax(X[:,1])\n",
    "    ax.set_ylim([x1_min-3,x1_max+3])"
   ]
  },
  {
   "cell_type": "code",
   "execution_count": 9,
   "metadata": {},
   "outputs": [],
   "source": [
    "def predict(params, X):\n",
    "    approx = np.dot(params['w'], X.T) - params['b']\n",
    "    return np.sign(approx)"
   ]
  },
  {
   "cell_type": "markdown",
   "metadata": {},
   "source": [
    "## Generating the data"
   ]
  },
  {
   "cell_type": "code",
   "execution_count": 10,
   "metadata": {},
   "outputs": [],
   "source": [
    "x, y = make_blobs(n_samples = 500, n_features = 2, centers = 2, cluster_std = 1.2)\n",
    "y = np.where(y == 0, -1, 1)\n",
    "y = y.reshape(-1, 1)"
   ]
  },
  {
   "cell_type": "code",
   "execution_count": 11,
   "metadata": {
    "scrolled": false
   },
   "outputs": [
    {
     "data": {
      "image/png": "[encoded data removed]",
      "text/plain": [
       "<Figure size 432x288 with 1 Axes>"
      ]
     },
     "metadata": {
      "needs_background": "light"
     },
     "output_type": "display_data"
    }
   ],
   "source": [
    "plt.scatter(x[:,0], x[:,1], c = y);"
   ]
  },
  {
   "cell_type": "code",
   "execution_count": 12,
   "metadata": {
    "scrolled": true
   },
   "outputs": [
    {
     "name": "stdout",
     "output_type": "stream",
     "text": [
      "Iteration 0 \n",
      "Current cost:  1.468\n",
      "Iteration 20 \n",
      "Current cost:  1.601\n",
      "Iteration 40 \n",
      "Current cost:  1.629\n",
      "Iteration 60 \n",
      "Current cost:  1.622\n",
      "Iteration 80 \n",
      "Current cost:  1.617\n",
      "Iteration 100 \n",
      "Current cost:  1.61\n",
      "Iteration 120 \n",
      "Current cost:  1.607\n",
      "Iteration 140 \n",
      "Current cost:  1.617\n",
      "Iteration 160 \n",
      "Current cost:  1.611\n",
      "Iteration 180 \n",
      "Current cost:  1.607\n",
      "Iteration 200 \n",
      "Current cost:  1.604\n",
      "Iteration 220 \n",
      "Current cost:  1.6\n",
      "Iteration 240 \n",
      "Current cost:  1.597\n",
      "Iteration 260 \n",
      "Current cost:  1.594\n",
      "Iteration 280 \n",
      "Current cost:  1.591\n",
      "Iteration 300 \n",
      "Current cost:  1.589\n",
      "Iteration 320 \n",
      "Current cost:  1.604\n",
      "Iteration 340 \n",
      "Current cost:  1.601\n",
      "Iteration 360 \n",
      "Current cost:  1.598\n",
      "Iteration 380 \n",
      "Current cost:  1.596\n",
      "Iteration 400 \n",
      "Current cost:  1.593\n",
      "Iteration 420 \n",
      "Current cost:  1.591\n",
      "Iteration 440 \n",
      "Current cost:  1.591\n",
      "Iteration 460 \n",
      "Current cost:  1.589\n",
      "Iteration 480 \n",
      "Current cost:  1.587\n",
      "Iteration 500 \n",
      "Current cost:  1.587\n",
      "Iteration 520 \n",
      "Current cost:  1.585\n",
      "Iteration 540 \n",
      "Current cost:  1.586\n",
      "Iteration 560 \n",
      "Current cost:  1.584\n",
      "Iteration 580 \n",
      "Current cost:  1.585\n",
      "Iteration 600 \n",
      "Current cost:  1.586\n",
      "Iteration 620 \n",
      "Current cost:  1.584\n",
      "Iteration 640 \n",
      "Current cost:  1.585\n",
      "Iteration 660 \n",
      "Current cost:  1.586\n",
      "Iteration 680 \n",
      "Current cost:  1.585\n",
      "Iteration 700 \n",
      "Current cost:  1.586\n",
      "Iteration 720 \n",
      "Current cost:  1.587\n",
      "Iteration 740 \n",
      "Current cost:  1.588\n",
      "Iteration 760 \n",
      "Current cost:  1.572\n",
      "Iteration 780 \n",
      "Current cost:  1.588\n",
      "Iteration 800 \n",
      "Current cost:  1.589\n",
      "Iteration 820 \n",
      "Current cost:  1.573\n",
      "Iteration 840 \n",
      "Current cost:  1.574\n",
      "Iteration 860 \n",
      "Current cost:  1.576\n",
      "Iteration 880 \n",
      "Current cost:  1.574\n",
      "Iteration 900 \n",
      "Current cost:  1.575\n",
      "Iteration 920 \n",
      "Current cost:  1.577\n",
      "Iteration 940 \n",
      "Current cost:  1.593\n",
      "Iteration 960 \n",
      "Current cost:  1.577\n",
      "Iteration 980 \n",
      "Current cost:  1.578\n"
     ]
    }
   ],
   "source": [
    "# Use the model to generate the appropriate paremeters\n",
    "params = model(x, y, 1000)"
   ]
  },
  {
   "cell_type": "markdown",
   "metadata": {},
   "source": [
    "## Generate the predicted output for the input"
   ]
  },
  {
   "cell_type": "code",
   "execution_count": 13,
   "metadata": {},
   "outputs": [],
   "source": [
    "Y_pred = predict(params, x).T "
   ]
  },
  {
   "cell_type": "code",
   "execution_count": 14,
   "metadata": {},
   "outputs": [
    {
     "name": "stdout",
     "output_type": "stream",
     "text": [
      "Accuracy: 100.0 %\n"
     ]
    }
   ],
   "source": [
    "print(\"Accuracy: {} %\".format(100 - np.mean(np.abs(Y_pred - y)) * 100))"
   ]
  },
  {
   "cell_type": "code",
   "execution_count": 15,
   "metadata": {},
   "outputs": [
    {
     "data": {
      "image/png": "[encoded data removed]",
      "text/plain": [
       "<Figure size 432x288 with 1 Axes>"
      ]
     },
     "metadata": {
      "needs_background": "light"
     },
     "output_type": "display_data"
    }
   ],
   "source": [
    "visualize_svm(x, y, params)"
   ]
  },
  {
   "cell_type": "code",
   "execution_count": null,
   "metadata": {},
   "outputs": [],
   "source": []
  }
 ],
 "metadata": {
  "kernelspec": {
   "display_name": "Python 3",
   "language": "python",
   "name": "python3"
  },
  "language_info": {
   "codemirror_mode": {
    "name": "ipython",
    "version": 3
   },
   "file_extension": ".py",
   "mimetype": "text/x-python",
   "name": "python",
   "nbconvert_exporter": "python",
   "pygments_lexer": "ipython3",
   "version": "3.8.5"
  }
 },
 "nbformat": 4,
 "nbformat_minor": 4
}
