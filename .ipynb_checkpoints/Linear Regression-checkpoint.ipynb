{
 "cells": [
  {
   "cell_type": "markdown",
   "metadata": {},
   "source": [
    "# Linear Regression\n",
    "\n",
    "In statistics, linear regression is a linear approach to modelling the relationship between a dependent variable and one or more independent variables. We will assume one independent variable X and the dependent variable Y.\n",
    "\n",
    "So basically we will be finding the best line that fits our data.\n",
    "\n",
    "Linear Regression has **4 assumptions** associated with it -\n",
    "\n",
    "1. **Linearity** - There is a linear relationship between features and target.\n",
    "<br/>\n",
    "\n",
    "2. **Homoscedasticity** - Homoscedasticity describes a situation in which the error term (that is, the “noise” or random disturbance in the relationship between the features and the target) is the same across all values of the independent variables.\n",
    "\n",
    "<img src = 'images/Homoscedasticity.png'>\n",
    "\n",
    "3. **Little or no Multicollinearity between the features** - Multicollinearity is a state of very high inter-correlations or inter-associations among the independent variables.\n",
    "<br/>\n",
    "\n",
    "4. **Normality** - For any fixed value of X, Y is normally distributed."
   ]
  },
  {
   "cell_type": "code",
   "execution_count": 1,
   "metadata": {},
   "outputs": [],
   "source": [
    "# import the required libraries\n",
    "import numpy as np\n",
    "import matplotlib.pyplot as plt"
   ]
  },
  {
   "cell_type": "markdown",
   "metadata": {},
   "source": [
    "## Generate the Data"
   ]
  },
  {
   "cell_type": "code",
   "execution_count": 2,
   "metadata": {},
   "outputs": [],
   "source": [
    "m = 75\n",
    "X = np.random.randint(40, size = (1, m))\n",
    "Y = X + np.random.randint(20, size = (1, m))"
   ]
  },
  {
   "cell_type": "code",
   "execution_count": 3,
   "metadata": {},
   "outputs": [
    {
     "data": {
      "image/png": "[encoded data removed]",
      "text/plain": [
       "<Figure size 432x288 with 1 Axes>"
      ]
     },
     "metadata": {
      "needs_background": "light"
     },
     "output_type": "display_data"
    }
   ],
   "source": [
    "plt.scatter(X, Y);"
   ]
  },
  {
   "cell_type": "markdown",
   "metadata": {},
   "source": [
    "## Initialize the paramaters\n",
    "Initialize the weights and biases to 0."
   ]
  },
  {
   "cell_type": "code",
   "execution_count": 4,
   "metadata": {},
   "outputs": [],
   "source": [
    "def initializeParams(dim):\n",
    "    w = np.zeros((dim, 1))\n",
    "    b = 0\n",
    "    return w, b"
   ]
  },
  {
   "cell_type": "markdown",
   "metadata": {},
   "source": [
    "## Forward propagation\n",
    "\n",
    "As  we will have one independent variable (X), therfore our hypothesis function will be:\n",
    "$$ h(x) = W.X + b $$"
   ]
  },
  {
   "cell_type": "code",
   "execution_count": 5,
   "metadata": {},
   "outputs": [],
   "source": [
    "def forwardProp(w, b, X):\n",
    "    return np.dot(w.T, X) + b"
   ]
  },
  {
   "cell_type": "markdown",
   "metadata": {},
   "source": [
    "## Cost function\n",
    "\n",
    "We will use **Mean squared Error** to calculate the loss.\n",
    "$$ J = -\\frac{1}{m}\\sum (Y_i - Z_i)^2 $$"
   ]
  },
  {
   "cell_type": "code",
   "execution_count": 6,
   "metadata": {},
   "outputs": [],
   "source": [
    "def cost(Y, Z):\n",
    "    return 1 / m * np.sum(np.square(Y - Z))"
   ]
  },
  {
   "cell_type": "markdown",
   "metadata": {},
   "source": [
    "## Backward propagation\n",
    "\n",
    "$$ \\frac{dJ}{dZ} = \\frac{-2}{m}*(Y - Z) $$\n",
    "<br/>\n",
    "$$ \\frac{dZ}{dW} = X \\text{ , } \\frac{dZ}{db} = 1 $$\n",
    "Therefore,\n",
    "$$ \\frac{dJ}{dW} = \\frac{-2}{m}X.(Y - Z) \\text{ , }\\frac{dJ}{db} = \\frac{-2}{m}\\sum(Y - Z) $$"
   ]
  },
  {
   "cell_type": "code",
   "execution_count": 7,
   "metadata": {},
   "outputs": [],
   "source": [
    "def backProp(X, Y, Z):\n",
    "    dw = -2 / m * (np.dot(X, (Y - Z).T))\n",
    "    db = -2 / m * np.sum(Y - Z)\n",
    "    return dw, db"
   ]
  },
  {
   "cell_type": "markdown",
   "metadata": {},
   "source": [
    "## Update Parameters\n",
    "\n",
    "Update the parameters using Gradient Descent."
   ]
  },
  {
   "cell_type": "code",
   "execution_count": 8,
   "metadata": {},
   "outputs": [],
   "source": [
    "def updateParams(w, b, dw, db, alpha):\n",
    "    w = w - alpha * dw\n",
    "    b = b - alpha * db\n",
    "    return w, b"
   ]
  },
  {
   "cell_type": "markdown",
   "metadata": {},
   "source": [
    "Combine all the steps and functions to form a model."
   ]
  },
  {
   "cell_type": "code",
   "execution_count": 9,
   "metadata": {},
   "outputs": [],
   "source": [
    "def model(X, Y, max_iters = 1000, alpha = 0.001):\n",
    "    w, b = initializeParams(X.shape[0])\n",
    "\n",
    "    for iters in range(max_iters):\n",
    "        Z = forwardProp(w, b, X)\n",
    "        \n",
    "        cur_cost = cost(Y, Z)\n",
    "        \n",
    "        if(cur_cost <= 50):\n",
    "            break\n",
    "        \n",
    "        (dw, db) = backProp(X, Y, Z)\n",
    "        \n",
    "        (w, b) = updateParams(w, b, dw, db, alpha)\n",
    "        \n",
    "        if iters % 20 == 0:\n",
    "            print('Iteration {} \\nCurrent cost: '.format(iters), round(cur_cost, 3))\n",
    "        \n",
    "    params = {'w': w, 'b': b}\n",
    "    return params"
   ]
  },
  {
   "cell_type": "code",
   "execution_count": 10,
   "metadata": {
    "scrolled": true
   },
   "outputs": [
    {
     "name": "stdout",
     "output_type": "stream",
     "text": [
      "Iteration 0 \n",
      "Current cost:  1016.0\n",
      "Iteration 20 \n",
      "Current cost:  63.88\n",
      "Iteration 40 \n",
      "Current cost:  63.097\n",
      "Iteration 60 \n",
      "Current cost:  62.331\n",
      "Iteration 80 \n",
      "Current cost:  61.582\n",
      "Iteration 100 \n",
      "Current cost:  60.85\n",
      "Iteration 120 \n",
      "Current cost:  60.134\n",
      "Iteration 140 \n",
      "Current cost:  59.434\n",
      "Iteration 160 \n",
      "Current cost:  58.749\n",
      "Iteration 180 \n",
      "Current cost:  58.079\n",
      "Iteration 200 \n",
      "Current cost:  57.425\n",
      "Iteration 220 \n",
      "Current cost:  56.785\n",
      "Iteration 240 \n",
      "Current cost:  56.159\n",
      "Iteration 260 \n",
      "Current cost:  55.547\n",
      "Iteration 280 \n",
      "Current cost:  54.948\n",
      "Iteration 300 \n",
      "Current cost:  54.363\n",
      "Iteration 320 \n",
      "Current cost:  53.79\n",
      "Iteration 340 \n",
      "Current cost:  53.231\n",
      "Iteration 360 \n",
      "Current cost:  52.683\n",
      "Iteration 380 \n",
      "Current cost:  52.148\n",
      "Iteration 400 \n",
      "Current cost:  51.625\n",
      "Iteration 420 \n",
      "Current cost:  51.113\n",
      "Iteration 440 \n",
      "Current cost:  50.613\n",
      "Iteration 460 \n",
      "Current cost:  50.123\n"
     ]
    }
   ],
   "source": [
    "# run our model for the above data\n",
    "params = model(X, Y)"
   ]
  },
  {
   "cell_type": "markdown",
   "metadata": {},
   "source": [
    "### Generate the predicted output for the input"
   ]
  },
  {
   "cell_type": "code",
   "execution_count": 11,
   "metadata": {},
   "outputs": [],
   "source": [
    "Y_pred = forwardProp(params['w'], params['b'], X)"
   ]
  },
  {
   "cell_type": "code",
   "execution_count": 12,
   "metadata": {
    "scrolled": false
   },
   "outputs": [
    {
     "data": {
      "image/png": "[encoded data removed]",
      "text/plain": [
       "<Figure size 432x288 with 1 Axes>"
      ]
     },
     "metadata": {
      "needs_background": "light"
     },
     "output_type": "display_data"
    }
   ],
   "source": [
    "plt.scatter(X, Y)\n",
    "plt.plot(X.flatten(), Y_pred.flatten(), color = 'red');    # regression line"
   ]
  },
  {
   "cell_type": "code",
   "execution_count": null,
   "metadata": {},
   "outputs": [],
   "source": []
  }
 ],
 "metadata": {
  "kernelspec": {
   "display_name": "Python 3",
   "language": "python",
   "name": "python3"
  },
  "language_info": {
   "codemirror_mode": {
    "name": "ipython",
    "version": 3
   },
   "file_extension": ".py",
   "mimetype": "text/x-python",
   "name": "python",
   "nbconvert_exporter": "python",
   "pygments_lexer": "ipython3",
   "version": "3.8.5"
  }
 },
 "nbformat": 4,
 "nbformat_minor": 4
}
